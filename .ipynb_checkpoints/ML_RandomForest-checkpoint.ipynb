{
 "cells": [
  {
   "cell_type": "code",
   "execution_count": 63,
   "id": "d8a7cf40",
   "metadata": {},
   "outputs": [],
   "source": [
    "#Visualization Libraries\n",
    "import matplotlib.pyplot as plt\n",
    "import seaborn as sns\n",
    "\n",
    "#Data Handling, Manipulation Libraries\n",
    "import pandas as pd\n",
    "import numpy as np\n",
    "\n",
    "import sklearn.metrics  as metrics\n",
    "from mpl_toolkits import mplot3d\n",
    "from mpl_toolkits.mplot3d import Axes3D\n",
    "\n",
    "from sklearn.cluster import KMeans\n",
    "\n",
    "from tqdm import tqdm\n",
    "from scipy.spatial.distance import cdist\n"
   ]
  },
  {
   "cell_type": "code",
   "execution_count": 64,
   "id": "91ac7629",
   "metadata": {},
   "outputs": [
    {
     "data": {
      "text/html": [
       "<div>\n",
       "<style scoped>\n",
       "    .dataframe tbody tr th:only-of-type {\n",
       "        vertical-align: middle;\n",
       "    }\n",
       "\n",
       "    .dataframe tbody tr th {\n",
       "        vertical-align: top;\n",
       "    }\n",
       "\n",
       "    .dataframe thead th {\n",
       "        text-align: right;\n",
       "    }\n",
       "</style>\n",
       "<table border=\"1\" class=\"dataframe\">\n",
       "  <thead>\n",
       "    <tr style=\"text-align: right;\">\n",
       "      <th></th>\n",
       "      <th>track</th>\n",
       "      <th>artist</th>\n",
       "      <th>uri</th>\n",
       "      <th>danceability</th>\n",
       "      <th>energy</th>\n",
       "      <th>tempo</th>\n",
       "    </tr>\n",
       "  </thead>\n",
       "  <tbody>\n",
       "    <tr>\n",
       "      <th>0</th>\n",
       "      <td>Lucky Man</td>\n",
       "      <td>Montgomery Gentry</td>\n",
       "      <td>spotify:track:4GiXBCUF7H6YfNQsnBRIzl</td>\n",
       "      <td>0.578</td>\n",
       "      <td>0.471</td>\n",
       "      <td>133.061</td>\n",
       "    </tr>\n",
       "    <tr>\n",
       "      <th>1</th>\n",
       "      <td>On The Hotline</td>\n",
       "      <td>Pretty Ricky</td>\n",
       "      <td>spotify:track:1zyqZONW985Cs4osz9wlsu</td>\n",
       "      <td>0.704</td>\n",
       "      <td>0.854</td>\n",
       "      <td>92.988</td>\n",
       "    </tr>\n",
       "    <tr>\n",
       "      <th>2</th>\n",
       "      <td>Clouds Of Dementia</td>\n",
       "      <td>Candlemass</td>\n",
       "      <td>spotify:track:6cHZf7RbxXCKwEkgAZT4mY</td>\n",
       "      <td>0.162</td>\n",
       "      <td>0.836</td>\n",
       "      <td>86.964</td>\n",
       "    </tr>\n",
       "    <tr>\n",
       "      <th>3</th>\n",
       "      <td>Heavy Metal, Raise Hell!</td>\n",
       "      <td>Zwartketterij</td>\n",
       "      <td>spotify:track:2IjBPp2vMeX7LggzRN3iSX</td>\n",
       "      <td>0.188</td>\n",
       "      <td>0.994</td>\n",
       "      <td>148.440</td>\n",
       "    </tr>\n",
       "    <tr>\n",
       "      <th>4</th>\n",
       "      <td>I Got A Feelin</td>\n",
       "      <td>Billy Currington</td>\n",
       "      <td>spotify:track:1tF370eYXUcWwkIvaq3IGz</td>\n",
       "      <td>0.630</td>\n",
       "      <td>0.764</td>\n",
       "      <td>112.098</td>\n",
       "    </tr>\n",
       "  </tbody>\n",
       "</table>\n",
       "</div>"
      ],
      "text/plain": [
       "                      track             artist  \\\n",
       "0                 Lucky Man  Montgomery Gentry   \n",
       "1            On The Hotline       Pretty Ricky   \n",
       "2        Clouds Of Dementia         Candlemass   \n",
       "3  Heavy Metal, Raise Hell!      Zwartketterij   \n",
       "4            I Got A Feelin   Billy Currington   \n",
       "\n",
       "                                    uri  danceability  energy    tempo  \n",
       "0  spotify:track:4GiXBCUF7H6YfNQsnBRIzl         0.578   0.471  133.061  \n",
       "1  spotify:track:1zyqZONW985Cs4osz9wlsu         0.704   0.854   92.988  \n",
       "2  spotify:track:6cHZf7RbxXCKwEkgAZT4mY         0.162   0.836   86.964  \n",
       "3  spotify:track:2IjBPp2vMeX7LggzRN3iSX         0.188   0.994  148.440  \n",
       "4  spotify:track:1tF370eYXUcWwkIvaq3IGz         0.630   0.764  112.098  "
      ]
     },
     "execution_count": 64,
     "metadata": {},
     "output_type": "execute_result"
    }
   ],
   "source": [
    "# # merging available five csv files\n",
    "# df = pd.concat(\n",
    "#     map(pd.read_csv, ['dataset-of-00s.csv', 'dataset-of-10s.csv','dataset-of-60s.csv','dataset-of-70s.csv','dataset-of-80s.csv','dataset-of-90s.csv']), ignore_index=True)\n",
    "# print(df)\n",
    "\n",
    "df = pd.read_csv(\"fixed_cleaned_spotify_data.csv\")\n",
    "df.head()\n"
   ]
  },
  {
   "cell_type": "markdown",
   "id": "fad96e99",
   "metadata": {},
   "source": [
    "# Exploratory Data Analysis"
   ]
  },
  {
   "cell_type": "code",
   "execution_count": 65,
   "id": "4e42d8bc",
   "metadata": {},
   "outputs": [
    {
     "data": {
      "text/html": [
       "<div>\n",
       "<style scoped>\n",
       "    .dataframe tbody tr th:only-of-type {\n",
       "        vertical-align: middle;\n",
       "    }\n",
       "\n",
       "    .dataframe tbody tr th {\n",
       "        vertical-align: top;\n",
       "    }\n",
       "\n",
       "    .dataframe thead th {\n",
       "        text-align: right;\n",
       "    }\n",
       "</style>\n",
       "<table border=\"1\" class=\"dataframe\">\n",
       "  <thead>\n",
       "    <tr style=\"text-align: right;\">\n",
       "      <th></th>\n",
       "      <th>danceability</th>\n",
       "      <th>energy</th>\n",
       "      <th>tempo</th>\n",
       "    </tr>\n",
       "  </thead>\n",
       "  <tbody>\n",
       "    <tr>\n",
       "      <th>count</th>\n",
       "      <td>41105.000000</td>\n",
       "      <td>41105.000000</td>\n",
       "      <td>41105.000000</td>\n",
       "    </tr>\n",
       "    <tr>\n",
       "      <th>mean</th>\n",
       "      <td>0.539689</td>\n",
       "      <td>0.579542</td>\n",
       "      <td>119.338988</td>\n",
       "    </tr>\n",
       "    <tr>\n",
       "      <th>std</th>\n",
       "      <td>0.177819</td>\n",
       "      <td>0.252631</td>\n",
       "      <td>29.098814</td>\n",
       "    </tr>\n",
       "    <tr>\n",
       "      <th>min</th>\n",
       "      <td>0.000000</td>\n",
       "      <td>0.000251</td>\n",
       "      <td>0.000000</td>\n",
       "    </tr>\n",
       "    <tr>\n",
       "      <th>25%</th>\n",
       "      <td>0.420000</td>\n",
       "      <td>0.396000</td>\n",
       "      <td>97.397000</td>\n",
       "    </tr>\n",
       "    <tr>\n",
       "      <th>50%</th>\n",
       "      <td>0.552000</td>\n",
       "      <td>0.601000</td>\n",
       "      <td>117.565000</td>\n",
       "    </tr>\n",
       "    <tr>\n",
       "      <th>75%</th>\n",
       "      <td>0.669000</td>\n",
       "      <td>0.787000</td>\n",
       "      <td>136.496000</td>\n",
       "    </tr>\n",
       "    <tr>\n",
       "      <th>max</th>\n",
       "      <td>0.988000</td>\n",
       "      <td>1.000000</td>\n",
       "      <td>241.423000</td>\n",
       "    </tr>\n",
       "  </tbody>\n",
       "</table>\n",
       "</div>"
      ],
      "text/plain": [
       "       danceability        energy         tempo\n",
       "count  41105.000000  41105.000000  41105.000000\n",
       "mean       0.539689      0.579542    119.338988\n",
       "std        0.177819      0.252631     29.098814\n",
       "min        0.000000      0.000251      0.000000\n",
       "25%        0.420000      0.396000     97.397000\n",
       "50%        0.552000      0.601000    117.565000\n",
       "75%        0.669000      0.787000    136.496000\n",
       "max        0.988000      1.000000    241.423000"
      ]
     },
     "execution_count": 65,
     "metadata": {},
     "output_type": "execute_result"
    }
   ],
   "source": [
    "df.describe()"
   ]
  },
  {
   "cell_type": "code",
   "execution_count": 66,
   "id": "7ca88ecd",
   "metadata": {},
   "outputs": [
    {
     "name": "stdout",
     "output_type": "stream",
     "text": [
      "<class 'pandas.core.frame.DataFrame'>\n",
      "RangeIndex: 41105 entries, 0 to 41104\n",
      "Data columns (total 6 columns):\n",
      " #   Column        Non-Null Count  Dtype  \n",
      "---  ------        --------------  -----  \n",
      " 0   track         41105 non-null  object \n",
      " 1   artist        41105 non-null  object \n",
      " 2   uri           41105 non-null  object \n",
      " 3   danceability  41105 non-null  float64\n",
      " 4   energy        41105 non-null  float64\n",
      " 5   tempo         41105 non-null  float64\n",
      "dtypes: float64(3), object(3)\n",
      "memory usage: 1.9+ MB\n"
     ]
    }
   ],
   "source": [
    "df.info()"
   ]
  },
  {
   "cell_type": "markdown",
   "id": "0002873f",
   "metadata": {},
   "source": [
    "- Observations: No null columns in the dataset"
   ]
  },
  {
   "cell_type": "code",
   "execution_count": 67,
   "id": "a24113fd",
   "metadata": {},
   "outputs": [],
   "source": [
    "# #Find correlation among features especially target ie. hits\n",
    "# plt.figure(figsize=(20,10))\n",
    "# corr = df.corr()\n",
    "# sns.heatmap(corr, annot = True, cmap= 'YlGnBu')\n"
   ]
  },
  {
   "cell_type": "code",
   "execution_count": 68,
   "id": "c147fb19",
   "metadata": {},
   "outputs": [],
   "source": [
    "# - Observations:\n",
    "# - The important features with positive correlation with popularity(target or hits) of the tracks are danceability,loudness, valence,energy, tempo, key and mode in descending postive correlation order"
   ]
  },
  {
   "cell_type": "markdown",
   "id": "0e89b311",
   "metadata": {},
   "source": [
    "# Data Cleaning"
   ]
  },
  {
   "cell_type": "code",
   "execution_count": 105,
   "id": "d8ae9892",
   "metadata": {},
   "outputs": [
    {
     "name": "stdout",
     "output_type": "stream",
     "text": [
      "unique records for uri 40559\n",
      "Records before dropping duplicate records 40559\n",
      "After data cleaning 40559\n"
     ]
    },
    {
     "data": {
      "text/html": [
       "<div>\n",
       "<style scoped>\n",
       "    .dataframe tbody tr th:only-of-type {\n",
       "        vertical-align: middle;\n",
       "    }\n",
       "\n",
       "    .dataframe tbody tr th {\n",
       "        vertical-align: top;\n",
       "    }\n",
       "\n",
       "    .dataframe thead th {\n",
       "        text-align: right;\n",
       "    }\n",
       "</style>\n",
       "<table border=\"1\" class=\"dataframe\">\n",
       "  <thead>\n",
       "    <tr style=\"text-align: right;\">\n",
       "      <th></th>\n",
       "      <th>danceability</th>\n",
       "      <th>energy</th>\n",
       "      <th>tempo</th>\n",
       "      <th>artist</th>\n",
       "      <th>track</th>\n",
       "      <th>uri</th>\n",
       "    </tr>\n",
       "  </thead>\n",
       "  <tbody>\n",
       "    <tr>\n",
       "      <th>0</th>\n",
       "      <td>0.585020</td>\n",
       "      <td>0.470867</td>\n",
       "      <td>0.551153</td>\n",
       "      <td>Montgomery Gentry</td>\n",
       "      <td>Lucky Man</td>\n",
       "      <td>spotify:track:4GiXBCUF7H6YfNQsnBRIzl</td>\n",
       "    </tr>\n",
       "    <tr>\n",
       "      <th>1</th>\n",
       "      <td>0.712551</td>\n",
       "      <td>0.853963</td>\n",
       "      <td>0.385166</td>\n",
       "      <td>Pretty Ricky</td>\n",
       "      <td>On The Hotline</td>\n",
       "      <td>spotify:track:1zyqZONW985Cs4osz9wlsu</td>\n",
       "    </tr>\n",
       "    <tr>\n",
       "      <th>2</th>\n",
       "      <td>0.163968</td>\n",
       "      <td>0.835959</td>\n",
       "      <td>0.360214</td>\n",
       "      <td>Candlemass</td>\n",
       "      <td>Clouds Of Dementia</td>\n",
       "      <td>spotify:track:6cHZf7RbxXCKwEkgAZT4mY</td>\n",
       "    </tr>\n",
       "    <tr>\n",
       "      <th>3</th>\n",
       "      <td>0.190283</td>\n",
       "      <td>0.993998</td>\n",
       "      <td>0.614854</td>\n",
       "      <td>Zwartketterij</td>\n",
       "      <td>Heavy Metal, Raise Hell!</td>\n",
       "      <td>spotify:track:2IjBPp2vMeX7LggzRN3iSX</td>\n",
       "    </tr>\n",
       "    <tr>\n",
       "      <th>4</th>\n",
       "      <td>0.637652</td>\n",
       "      <td>0.763941</td>\n",
       "      <td>0.464322</td>\n",
       "      <td>Billy Currington</td>\n",
       "      <td>I Got A Feelin</td>\n",
       "      <td>spotify:track:1tF370eYXUcWwkIvaq3IGz</td>\n",
       "    </tr>\n",
       "    <tr>\n",
       "      <th>...</th>\n",
       "      <td>...</td>\n",
       "      <td>...</td>\n",
       "      <td>...</td>\n",
       "      <td>...</td>\n",
       "      <td>...</td>\n",
       "      <td>...</td>\n",
       "    </tr>\n",
       "    <tr>\n",
       "      <th>40554</th>\n",
       "      <td>0.400810</td>\n",
       "      <td>0.794949</td>\n",
       "      <td>0.633506</td>\n",
       "      <td>Reagan Youth</td>\n",
       "      <td>(Youre A) Go Nowhere</td>\n",
       "      <td>spotify:track:4e86fqSFhqRQk3Z9hm7XHt</td>\n",
       "    </tr>\n",
       "    <tr>\n",
       "      <th>40555</th>\n",
       "      <td>0.628543</td>\n",
       "      <td>0.654913</td>\n",
       "      <td>0.555734</td>\n",
       "      <td>La Castañeda</td>\n",
       "      <td>La Fiebre de Norma</td>\n",
       "      <td>spotify:track:43DFcnOZprnVlAFKwgBJ3e</td>\n",
       "    </tr>\n",
       "    <tr>\n",
       "      <th>40556</th>\n",
       "      <td>0.568826</td>\n",
       "      <td>0.313828</td>\n",
       "      <td>0.691098</td>\n",
       "      <td>Edie Brickell</td>\n",
       "      <td>Good Times</td>\n",
       "      <td>spotify:track:6UPfnVoOq3y3BvapBIKs8J</td>\n",
       "    </tr>\n",
       "    <tr>\n",
       "      <th>40557</th>\n",
       "      <td>0.629555</td>\n",
       "      <td>0.780945</td>\n",
       "      <td>0.497264</td>\n",
       "      <td>KMFDM</td>\n",
       "      <td>Inane</td>\n",
       "      <td>spotify:track:2Ao3Wi4raEOQfKQiU9EU8y</td>\n",
       "    </tr>\n",
       "    <tr>\n",
       "      <th>40558</th>\n",
       "      <td>0.672065</td>\n",
       "      <td>0.738934</td>\n",
       "      <td>0.382138</td>\n",
       "      <td>Elton John</td>\n",
       "      <td>You Can Make History (Young Again)</td>\n",
       "      <td>spotify:track:3ca91BX2k7GSzEUsx1mPgI</td>\n",
       "    </tr>\n",
       "  </tbody>\n",
       "</table>\n",
       "<p>40559 rows × 6 columns</p>\n",
       "</div>"
      ],
      "text/plain": [
       "       danceability    energy     tempo             artist  \\\n",
       "0          0.585020  0.470867  0.551153  Montgomery Gentry   \n",
       "1          0.712551  0.853963  0.385166       Pretty Ricky   \n",
       "2          0.163968  0.835959  0.360214         Candlemass   \n",
       "3          0.190283  0.993998  0.614854      Zwartketterij   \n",
       "4          0.637652  0.763941  0.464322   Billy Currington   \n",
       "...             ...       ...       ...                ...   \n",
       "40554      0.400810  0.794949  0.633506       Reagan Youth   \n",
       "40555      0.628543  0.654913  0.555734       La Castañeda   \n",
       "40556      0.568826  0.313828  0.691098      Edie Brickell   \n",
       "40557      0.629555  0.780945  0.497264              KMFDM   \n",
       "40558      0.672065  0.738934  0.382138         Elton John   \n",
       "\n",
       "                                    track  \\\n",
       "0                               Lucky Man   \n",
       "1                          On The Hotline   \n",
       "2                      Clouds Of Dementia   \n",
       "3                Heavy Metal, Raise Hell!   \n",
       "4                          I Got A Feelin   \n",
       "...                                   ...   \n",
       "40554                (Youre A) Go Nowhere   \n",
       "40555                  La Fiebre de Norma   \n",
       "40556                          Good Times   \n",
       "40557                               Inane   \n",
       "40558  You Can Make History (Young Again)   \n",
       "\n",
       "                                        uri  \n",
       "0      spotify:track:4GiXBCUF7H6YfNQsnBRIzl  \n",
       "1      spotify:track:1zyqZONW985Cs4osz9wlsu  \n",
       "2      spotify:track:6cHZf7RbxXCKwEkgAZT4mY  \n",
       "3      spotify:track:2IjBPp2vMeX7LggzRN3iSX  \n",
       "4      spotify:track:1tF370eYXUcWwkIvaq3IGz  \n",
       "...                                     ...  \n",
       "40554  spotify:track:4e86fqSFhqRQk3Z9hm7XHt  \n",
       "40555  spotify:track:43DFcnOZprnVlAFKwgBJ3e  \n",
       "40556  spotify:track:6UPfnVoOq3y3BvapBIKs8J  \n",
       "40557  spotify:track:2Ao3Wi4raEOQfKQiU9EU8y  \n",
       "40558  spotify:track:3ca91BX2k7GSzEUsx1mPgI  \n",
       "\n",
       "[40559 rows x 6 columns]"
      ]
     },
     "execution_count": 105,
     "metadata": {},
     "output_type": "execute_result"
    }
   ],
   "source": [
    "#Remove duplicate records with same uri\n",
    "print('unique records for uri',len(df['uri'].unique()))\n",
    "print('Records before dropping duplicate records',len(df))\n",
    "df.drop_duplicates(['uri'], keep='last',inplace=True)\n",
    "df.reset_index(drop=True, inplace=True)\n",
    "print('After data cleaning',len(df))\n",
    "\n",
    "df=df.reindex(columns=['danceability','energy','tempo','artist','track','uri'])\n",
    "df"
   ]
  },
  {
   "cell_type": "code",
   "execution_count": 106,
   "id": "ce8bf083",
   "metadata": {},
   "outputs": [],
   "source": [
    "# fig = plt.figure()\n",
    "# ax = fig.add_subplot(111, projection = \"3d\")\n",
    "# x = spotify_data[[\"danceability\"]]\n",
    "# y = spotify_data[[\"energy\"]]\n",
    "# z = spotify_data[[\"tempo\"]]\n",
    "# ax.scatter(x,y,z)\n",
    "# ax.view_init(50, 250)\n",
    "# plt.show()"
   ]
  },
  {
   "cell_type": "code",
   "execution_count": 107,
   "id": "904b1ce0",
   "metadata": {},
   "outputs": [],
   "source": [
    "#Find Cosine similarity between all the data\n",
    "# data_for_similarity = pd.DataFrame({'danceability':spotify_data['danceability'],'energy':spotify_data['energy'],'tempo':spotify_data['tempo']})\n",
    "# from sklearn.metrics.pairwise import cosine_similarity\n",
    "\n",
    "# similarity = cosine_similarity(data_for_similarity)\n",
    "# print(similarity)"
   ]
  },
  {
   "cell_type": "markdown",
   "id": "de0b088e",
   "metadata": {},
   "source": [
    "# Feature Selection and Transformation"
   ]
  },
  {
   "cell_type": "markdown",
   "id": "a46d7ebb",
   "metadata": {},
   "source": [
    "- As uri is unique for each track, it serves no purpose for model training and will be dropped and of no use \n",
    "- The artist and track have to be replaced with dummy values for model prediction by using OneHotKey or we can use just the numerical valued "
   ]
  },
  {
   "cell_type": "code",
   "execution_count": 108,
   "id": "05f1616e",
   "metadata": {},
   "outputs": [
    {
     "name": "stdout",
     "output_type": "stream",
     "text": [
      "       danceability    energy     tempo\n",
      "0          0.585020  0.470867  0.551153\n",
      "1          0.712551  0.853963  0.385166\n",
      "2          0.163968  0.835959  0.360214\n",
      "3          0.190283  0.993998  0.614854\n",
      "4          0.637652  0.763941  0.464322\n",
      "...             ...       ...       ...\n",
      "40554      0.400810  0.794949  0.633506\n",
      "40555      0.628543  0.654913  0.555734\n",
      "40556      0.568826  0.313828  0.691098\n",
      "40557      0.629555  0.780945  0.497264\n",
      "40558      0.672065  0.738934  0.382138\n",
      "\n",
      "[40559 rows x 3 columns]\n"
     ]
    },
    {
     "data": {
      "image/png": "[encoded data removed]",
      "text/plain": [
       "<Figure size 432x288 with 1 Axes>"
      ]
     },
     "metadata": {
      "needs_background": "light"
     },
     "output_type": "display_data"
    }
   ],
   "source": [
    "def normalize_column(col):\n",
    "# \n",
    "#    col - column in the dataframe which needs to be normalized\n",
    "#\n",
    "    max_d = df[col].max()\n",
    "    min_d = df[col].min()\n",
    "    df[col] = (df[col] - min_d)/(max_d - min_d)\n",
    "    \n",
    "#Normalize allnumerical columns so that min value is 0 and max value is 1\n",
    "num_types = ['int16', 'int32', 'int64', 'float16', 'float32', 'float64']\n",
    "num = df.select_dtypes(include=num_types)\n",
    "        \n",
    "for col in num.columns:\n",
    "    normalize_column(col)\n",
    "print(num)\n",
    "\n",
    "cost =[]\n",
    "for i in range(1, 10):\n",
    "    KM = KMeans(n_clusters = i, max_iter = 500)\n",
    "    KM.fit(num)\n",
    "      \n",
    "    # calculates squared error\n",
    "    # for the clustered points\n",
    "    cost.append(KM.inertia_)     \n",
    "  \n",
    "# plot the cost against K values\n",
    "plt.plot(range(1, 10), cost, color ='g', linewidth ='3')\n",
    "plt.xlabel(\"Value of K\")\n",
    "plt.ylabel(\"Sqaured Error (Cost)\")\n",
    "plt.show() \n"
   ]
  },
  {
   "cell_type": "markdown",
   "id": "bf73882a",
   "metadata": {},
   "source": [
    "- As we see the dip between 2, 4 or 5 we can choose 5 as after 5 the change in MSE is low"
   ]
  },
  {
   "cell_type": "markdown",
   "id": "c33967b7",
   "metadata": {},
   "source": [
    "# K-means clustering"
   ]
  },
  {
   "cell_type": "code",
   "execution_count": 109,
   "id": "4fcef049",
   "metadata": {
    "scrolled": true
   },
   "outputs": [
    {
     "name": "stdout",
     "output_type": "stream",
     "text": [
      "       danceability    energy     tempo             artist  \\\n",
      "0          0.585020  0.470867  0.551153  Montgomery Gentry   \n",
      "1          0.712551  0.853963  0.385166       Pretty Ricky   \n",
      "2          0.163968  0.835959  0.360214         Candlemass   \n",
      "3          0.190283  0.993998  0.614854      Zwartketterij   \n",
      "4          0.637652  0.763941  0.464322   Billy Currington   \n",
      "...             ...       ...       ...                ...   \n",
      "40554      0.400810  0.794949  0.633506       Reagan Youth   \n",
      "40555      0.628543  0.654913  0.555734       La Castañeda   \n",
      "40556      0.568826  0.313828  0.691098      Edie Brickell   \n",
      "40557      0.629555  0.780945  0.497264              KMFDM   \n",
      "40558      0.672065  0.738934  0.382138         Elton John   \n",
      "\n",
      "                                    track  \\\n",
      "0                               Lucky Man   \n",
      "1                          On The Hotline   \n",
      "2                      Clouds Of Dementia   \n",
      "3                Heavy Metal, Raise Hell!   \n",
      "4                          I Got A Feelin   \n",
      "...                                   ...   \n",
      "40554                (Youre A) Go Nowhere   \n",
      "40555                  La Fiebre de Norma   \n",
      "40556                          Good Times   \n",
      "40557                               Inane   \n",
      "40558  You Can Make History (Young Again)   \n",
      "\n",
      "                                        uri  pred  \n",
      "0      spotify:track:4GiXBCUF7H6YfNQsnBRIzl  0.00  \n",
      "1      spotify:track:1zyqZONW985Cs4osz9wlsu  1.00  \n",
      "2      spotify:track:6cHZf7RbxXCKwEkgAZT4mY  0.75  \n",
      "3      spotify:track:2IjBPp2vMeX7LggzRN3iSX  0.75  \n",
      "4      spotify:track:1tF370eYXUcWwkIvaq3IGz  1.00  \n",
      "...                                     ...   ...  \n",
      "40554  spotify:track:4e86fqSFhqRQk3Z9hm7XHt  0.75  \n",
      "40555  spotify:track:43DFcnOZprnVlAFKwgBJ3e  1.00  \n",
      "40556  spotify:track:6UPfnVoOq3y3BvapBIKs8J  0.50  \n",
      "40557  spotify:track:2Ao3Wi4raEOQfKQiU9EU8y  1.00  \n",
      "40558  spotify:track:3ca91BX2k7GSzEUsx1mPgI  1.00  \n",
      "\n",
      "[40559 rows x 7 columns]\n"
     ]
    }
   ],
   "source": [
    "\n",
    "km = KMeans(n_clusters=5)\n",
    "pred = km.fit_predict(num)\n",
    "df['pred'] = pred\n",
    "normalize_column('pred')\n",
    "print(df)\n",
    "# spotify_data['song_id']= [i for i,uri in enumerate(spotify_data['uri'])] \n",
    "# print(spotify_data)\n",
    "# #Extracting Independent and dependent Variable  \n",
    "# y= spotify_data.iloc[:,[6]].values  \n",
    "# x= spotify_data.iloc[:,[3,4,5]].values  \n",
    "  \n",
    "# # # # Splitting the dataset into training and test set.  \n",
    "# from sklearn.model_selection import train_test_split  \n",
    "# X_train, X_test, y_train, y_test= train_test_split(x, y, test_size= 0.2, random_state=42)  \n",
    "# # # #feature Scaling  \n",
    "# from sklearn.preprocessing import StandardScaler    \n",
    "# st_x= StandardScaler()    \n",
    "# X_train= st_x.fit_transform(X_train)    \n",
    "# X_test= st_x.transform(X_test)    "
   ]
  },
  {
   "cell_type": "code",
   "execution_count": 130,
   "id": "88804324",
   "metadata": {},
   "outputs": [],
   "source": [
    "class Song_Recommender():\n",
    "#     \"\"\"\n",
    "#     Neighbourhood Based Collborative Filterng REcoomendation System using similarity Metrics\n",
    "#     Manhattan Distance is calculated for all songs and Recommend Songs that are similar to it based on any given metrics\n",
    "#     \"\"\"\n",
    "    def __init__(self, data):\n",
    "        self.data_ = data\n",
    "    \n",
    "    #function which returns recommendations, we can also choose the amount of songs to be recommended\n",
    "    def get_recommendations(self, danceability, energy, tempo, n_top):\n",
    "        distances = []\n",
    "        new_df = {}\n",
    "        #choosing the given song_name and dropping it from the data\n",
    "        new_df =[danceability,energy,tempo]\n",
    "        rem_data = self.data_[(self.data_.danceability != danceability) & (self.data_.energy != energy )& (self.data_.tempo != tempo)]\n",
    "        for r_song in tqdm(rem_data.values):\n",
    "            dist = 0\n",
    "            for col in np.arange(len(rem_data.columns)-1):\n",
    "                if not col in [3,4,5]:\n",
    "                    #calculating the manhettan distances for each numerical feature\n",
    "                    dist = dist + np.absolute(float(new_df[col]) - float(r_song[col]))\n",
    "            distances.append(dist)\n",
    "        rem_data['distance'] = distances\n",
    "        \n",
    "        #sorting our data to be ascending by 'distance' feature\n",
    "        rem_data = rem_data.sort_values('distance')\n",
    "        columns = ['artist', 'track','uri','danceability','energy','tempo']\n",
    "        return rem_data[columns][:n_top]"
   ]
  },
  {
   "cell_type": "code",
   "execution_count": 132,
   "id": "97f402dd",
   "metadata": {},
   "outputs": [
    {
     "name": "stderr",
     "output_type": "stream",
     "text": [
      "100%|██████████| 40559/40559 [00:00<00:00, 74991.62it/s]"
     ]
    },
    {
     "name": "stdout",
     "output_type": "stream",
     "text": [
      "                artist                    track  \\\n",
      "17987  The Mindbenders    A Groovy Kind Of Love   \n",
      "33281  Yolanda Del Rio         La Hija de Nadie   \n",
      "5266       U. Srinivas                Folk Note   \n",
      "15950  Bobby Goldsboro             Im A Drifter   \n",
      "39701   Charlie Parker  Scrapple From The Apple   \n",
      "\n",
      "                                        uri  danceability    energy     tempo  \n",
      "17987  spotify:track:1GcmwA3lDj915K6xLOYDIM      0.408907  0.405851  0.787808  \n",
      "33281  spotify:track:1TXIr8k01UXF0v6ckLVMUX      0.382591  0.400850  0.776977  \n",
      "5266   spotify:track:65dR804fnZHrfD8qAVEwec      0.399798  0.407851  0.757012  \n",
      "15950  spotify:track:01cZbN980X7YkWdzSRlBGD      0.431174  0.403850  0.820986  \n",
      "39701  spotify:track:7flQESHoCoDzirWF4IkKGq      0.422065  0.396849  0.833235  \n"
     ]
    },
    {
     "name": "stderr",
     "output_type": "stream",
     "text": [
      "\n"
     ]
    }
   ],
   "source": [
    "#Instanstiate the Recommender Class\n",
    "recommender = Song_Recommender(df)\n",
    "print(recommender.get_recommendations(0.4,0.4,0.8, 5))"
   ]
  },
  {
   "cell_type": "code",
   "execution_count": 133,
   "id": "edd7094f",
   "metadata": {},
   "outputs": [
    {
     "name": "stderr",
     "output_type": "stream",
     "text": [
      "100%|██████████| 40558/40558 [00:00<00:00, 81540.00it/s]\n"
     ]
    },
    {
     "name": "stdout",
     "output_type": "stream",
     "text": [
      "                                              artist              track  \\\n",
      "39181                         Lighter Shade Of Brown             Homies   \n",
      "7632                       Drake Featuring Lil Wayne          The Motto   \n",
      "824                                   Jermaine Dupri       Gotta Getcha   \n",
      "7416   YG Featuring 2 Chainz, Big Sean & Nicki Minaj           Big Bank   \n",
      "39772                                         N2Deep  Back To The Hotel   \n",
      "\n",
      "                                        uri  danceability    energy     tempo  \n",
      "39181  spotify:track:3kk66lcmo2blwB1uLHMkPJ      0.788462  0.385846  0.801804  \n",
      "7632   spotify:track:4Kz4RdRCceaA9VgTqBhBfa      0.775304  0.441860  0.835877  \n",
      "824    spotify:track:5gOYXiA88QUy9DdWR4oNni      0.771255  0.323830  0.869093  \n",
      "7416   spotify:track:0ZNrc4kNeQYD9koZ3KvCsy      0.754049  0.345836  0.844621  \n",
      "39772  spotify:track:47ukoPgAExwBp64F2gQlv2      0.698381  0.379844  0.835451  \n"
     ]
    },
    {
     "name": "stderr",
     "output_type": "stream",
     "text": [
      "/opt/anaconda3/envs/PythonData/lib/python3.6/site-packages/ipykernel_launcher.py:23: SettingWithCopyWarning: \n",
      "A value is trying to be set on a copy of a slice from a DataFrame.\n",
      "Try using .loc[row_indexer,col_indexer] = value instead\n",
      "\n",
      "See the caveats in the documentation: https://pandas.pydata.org/pandas-docs/stable/user_guide/indexing.html#returning-a-view-versus-a-copy\n"
     ]
    }
   ],
   "source": [
    "print(recommender.get_recommendations(0.8,0.4,1.0, 5))"
   ]
  },
  {
   "cell_type": "code",
   "execution_count": 13,
   "id": "05e4c69c",
   "metadata": {},
   "outputs": [],
   "source": [
    "#Fitting Decision Tree classifier to the training set  \n",
    "# from sklearn.ensemble import RandomForestRegressor \n",
    "# from sklearn.metrics import r2_score, mean_squared_error\n",
    "# from sklearn.metrics import mean_absolute_error as mae\n",
    "# regressor= RandomForestRegressor(n_estimators= 250, random_state=0)  \n",
    "# regressor.fit(x_train, np.ravel(y_train))"
   ]
  },
  {
   "cell_type": "code",
   "execution_count": 14,
   "id": "1c2b809d",
   "metadata": {},
   "outputs": [],
   "source": [
    "#Predicting the test set result\n",
    "# y_test_pred = regressor.predict(x_test)  \n",
    "# y_test_pred= np.array(y_pred, dtype='int')"
   ]
  },
  {
   "cell_type": "code",
   "execution_count": 15,
   "id": "b42eee13",
   "metadata": {},
   "outputs": [],
   "source": [
    "# accuracy = regressor.score(x_test, y_test)\n",
    "# mae = (abs(y_test - y_test_pred)).mean() \n",
    "# y_train_pred = regressor.predict(x_train)\n",
    "\n",
    "# r2_train = r2_score(y_train, y_train_pred)\n",
    "# r2_test= r2_score(y_test, y_test_pred)\n",
    "# # return accuracy,mae,r2_train,r2_test\n",
    "\n",
    "# # accuracy,mae,r2_train,r2_test =  Randomforest(X_train,y_train,X_test,y_test)\n",
    "# print(\"Test Accuracy: {:.4f}\".format(accuracy*100))\n",
    "# print(\"Mean Absolute Error: {:.4f} \".format(mae))\n",
    "# print(\"r2-score of Train Dataset is {} and Test Dataset is {}\".format(r2_train*100, r2_test*100))"
   ]
  },
  {
   "cell_type": "code",
   "execution_count": 16,
   "id": "5a2a5ffa",
   "metadata": {},
   "outputs": [],
   "source": [
    "# def Randomforest(X_train,y_train,X_test,y_test):\n",
    "#     \"\"\"\n",
    "#     Design Random Forest Regressor model and returns r2-score and Mean squared Error for Train and Test Datasets\n",
    "#     INPUT:\n",
    "#     :param X_train: \n",
    "#     :param y_train: \n",
    "#     :param X_test: \n",
    "#     :param y_test: \n",
    "#     OUTPUT:\n",
    "#     Test Accuracy\n",
    "#     Mean Absolute Error\n",
    "#     r2-score for Train and Test datasets\n",
    "#     \"\"\"\n",
    "#     clf = RandomForestRegressor()\n",
    "#     clf.fit(X_train, np.ravel(y_train))\n",
    "    \n",
    "#     preds = clf.predict(X_test)\n",
    "\n",
    "#     accuracy = clf.score(X_test, y_test)\n",
    "\n",
    "#     mae = (abs(y_test - preds)).mean() \n",
    "#     y_train_pred = clf.predict(X_train)\n",
    "    \n",
    "#     y_test_pred = clf.predict(X_test)\n",
    "\n",
    "    \n",
    "#     r2_train = r2_score(y_train, y_train_pred)\n",
    "    \n",
    "#     r2_test= r2_score(y_test, y_test_pred)\n",
    "    \n",
    "#     return accuracy,mae,r2_train,r2_test\n",
    "\n",
    "# accuracy,mae,r2_train,r2_test =  Randomforest(X_train,y_train,X_test,y_test)\n",
    "# print(\"Test Accuracy: {:.4f}\".format(accuracy*100))\n",
    "# print(\"Mean Absolute Error: {:.4f} \".format(mae))\n",
    "# print(\"r2-score of Train Dataset is {} and Test Dataset is {}\".format(r2_train*100, r2_test*100))"
   ]
  },
  {
   "cell_type": "code",
   "execution_count": null,
   "id": "dfceaacc",
   "metadata": {},
   "outputs": [],
   "source": []
  }
 ],
 "metadata": {
  "kernelspec": {
   "display_name": "Python [conda env:PythonData] *",
   "language": "python",
   "name": "conda-env-PythonData-py"
  },
  "language_info": {
   "codemirror_mode": {
    "name": "ipython",
    "version": 3
   },
   "file_extension": ".py",
   "mimetype": "text/x-python",
   "name": "python",
   "nbconvert_exporter": "python",
   "pygments_lexer": "ipython3",
   "version": "3.6.10"
  }
 },
 "nbformat": 4,
 "nbformat_minor": 5
}
