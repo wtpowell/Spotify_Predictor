{
 "cells": [
  {
   "cell_type": "code",
   "execution_count": 1,
   "id": "f2414784",
   "metadata": {},
   "outputs": [],
   "source": [
    "import matplotlib.pyplot as plt\n",
    "import pandas as pd\n",
    "import numpy as np\n",
    "from mpl_toolkits import mplot3d\n",
    "from mpl_toolkits.mplot3d import Axes3D\n"
   ]
  },
  {
   "cell_type": "code",
   "execution_count": 2,
   "id": "82bf2ce5",
   "metadata": {},
   "outputs": [
    {
     "data": {
      "text/html": [
       "<div>\n",
       "<style scoped>\n",
       "    .dataframe tbody tr th:only-of-type {\n",
       "        vertical-align: middle;\n",
       "    }\n",
       "\n",
       "    .dataframe tbody tr th {\n",
       "        vertical-align: top;\n",
       "    }\n",
       "\n",
       "    .dataframe thead th {\n",
       "        text-align: right;\n",
       "    }\n",
       "</style>\n",
       "<table border=\"1\" class=\"dataframe\">\n",
       "  <thead>\n",
       "    <tr style=\"text-align: right;\">\n",
       "      <th></th>\n",
       "      <th>track</th>\n",
       "      <th>artist</th>\n",
       "      <th>uri</th>\n",
       "      <th>danceability</th>\n",
       "      <th>energy</th>\n",
       "      <th>tempo</th>\n",
       "    </tr>\n",
       "  </thead>\n",
       "  <tbody>\n",
       "    <tr>\n",
       "      <th>0</th>\n",
       "      <td>Lucky Man</td>\n",
       "      <td>Montgomery Gentry</td>\n",
       "      <td>spotify:track:4GiXBCUF7H6YfNQsnBRIzl</td>\n",
       "      <td>0.578</td>\n",
       "      <td>0.471</td>\n",
       "      <td>133.061</td>\n",
       "    </tr>\n",
       "    <tr>\n",
       "      <th>1</th>\n",
       "      <td>On The Hotline</td>\n",
       "      <td>Pretty Ricky</td>\n",
       "      <td>spotify:track:1zyqZONW985Cs4osz9wlsu</td>\n",
       "      <td>0.704</td>\n",
       "      <td>0.854</td>\n",
       "      <td>92.988</td>\n",
       "    </tr>\n",
       "    <tr>\n",
       "      <th>2</th>\n",
       "      <td>Clouds Of Dementia</td>\n",
       "      <td>Candlemass</td>\n",
       "      <td>spotify:track:6cHZf7RbxXCKwEkgAZT4mY</td>\n",
       "      <td>0.162</td>\n",
       "      <td>0.836</td>\n",
       "      <td>86.964</td>\n",
       "    </tr>\n",
       "    <tr>\n",
       "      <th>3</th>\n",
       "      <td>Heavy Metal, Raise Hell!</td>\n",
       "      <td>Zwartketterij</td>\n",
       "      <td>spotify:track:2IjBPp2vMeX7LggzRN3iSX</td>\n",
       "      <td>0.188</td>\n",
       "      <td>0.994</td>\n",
       "      <td>148.440</td>\n",
       "    </tr>\n",
       "    <tr>\n",
       "      <th>4</th>\n",
       "      <td>I Got A Feelin</td>\n",
       "      <td>Billy Currington</td>\n",
       "      <td>spotify:track:1tF370eYXUcWwkIvaq3IGz</td>\n",
       "      <td>0.630</td>\n",
       "      <td>0.764</td>\n",
       "      <td>112.098</td>\n",
       "    </tr>\n",
       "  </tbody>\n",
       "</table>\n",
       "</div>"
      ],
      "text/plain": [
       "                      track             artist  \\\n",
       "0                 Lucky Man  Montgomery Gentry   \n",
       "1            On The Hotline       Pretty Ricky   \n",
       "2        Clouds Of Dementia         Candlemass   \n",
       "3  Heavy Metal, Raise Hell!      Zwartketterij   \n",
       "4            I Got A Feelin   Billy Currington   \n",
       "\n",
       "                                    uri  danceability  energy    tempo  \n",
       "0  spotify:track:4GiXBCUF7H6YfNQsnBRIzl         0.578   0.471  133.061  \n",
       "1  spotify:track:1zyqZONW985Cs4osz9wlsu         0.704   0.854   92.988  \n",
       "2  spotify:track:6cHZf7RbxXCKwEkgAZT4mY         0.162   0.836   86.964  \n",
       "3  spotify:track:2IjBPp2vMeX7LggzRN3iSX         0.188   0.994  148.440  \n",
       "4  spotify:track:1tF370eYXUcWwkIvaq3IGz         0.630   0.764  112.098  "
      ]
     },
     "execution_count": 2,
     "metadata": {},
     "output_type": "execute_result"
    }
   ],
   "source": [
    "spotify_data = pd.read_csv(\"fixed_cleaned_spotify_data.csv\")\n",
    "spotify_data.head()\n"
   ]
  },
  {
   "cell_type": "code",
   "execution_count": 3,
   "id": "776e22e1",
   "metadata": {},
   "outputs": [
    {
     "data": {
      "text/html": [
       "<div>\n",
       "<style scoped>\n",
       "    .dataframe tbody tr th:only-of-type {\n",
       "        vertical-align: middle;\n",
       "    }\n",
       "\n",
       "    .dataframe tbody tr th {\n",
       "        vertical-align: top;\n",
       "    }\n",
       "\n",
       "    .dataframe thead th {\n",
       "        text-align: right;\n",
       "    }\n",
       "</style>\n",
       "<table border=\"1\" class=\"dataframe\">\n",
       "  <thead>\n",
       "    <tr style=\"text-align: right;\">\n",
       "      <th></th>\n",
       "      <th>track</th>\n",
       "      <th>artist</th>\n",
       "      <th>uri</th>\n",
       "      <th>danceability</th>\n",
       "      <th>energy</th>\n",
       "      <th>tempo</th>\n",
       "    </tr>\n",
       "  </thead>\n",
       "  <tbody>\n",
       "    <tr>\n",
       "      <th>0</th>\n",
       "      <td>Lucky Man</td>\n",
       "      <td>Montgomery Gentry</td>\n",
       "      <td>spotify:track:4GiXBCUF7H6YfNQsnBRIzl</td>\n",
       "      <td>57.8</td>\n",
       "      <td>47.1</td>\n",
       "      <td>133.061</td>\n",
       "    </tr>\n",
       "    <tr>\n",
       "      <th>1</th>\n",
       "      <td>On The Hotline</td>\n",
       "      <td>Pretty Ricky</td>\n",
       "      <td>spotify:track:1zyqZONW985Cs4osz9wlsu</td>\n",
       "      <td>70.4</td>\n",
       "      <td>85.4</td>\n",
       "      <td>92.988</td>\n",
       "    </tr>\n",
       "    <tr>\n",
       "      <th>2</th>\n",
       "      <td>Clouds Of Dementia</td>\n",
       "      <td>Candlemass</td>\n",
       "      <td>spotify:track:6cHZf7RbxXCKwEkgAZT4mY</td>\n",
       "      <td>16.2</td>\n",
       "      <td>83.6</td>\n",
       "      <td>86.964</td>\n",
       "    </tr>\n",
       "    <tr>\n",
       "      <th>3</th>\n",
       "      <td>Heavy Metal, Raise Hell!</td>\n",
       "      <td>Zwartketterij</td>\n",
       "      <td>spotify:track:2IjBPp2vMeX7LggzRN3iSX</td>\n",
       "      <td>18.8</td>\n",
       "      <td>99.4</td>\n",
       "      <td>148.440</td>\n",
       "    </tr>\n",
       "    <tr>\n",
       "      <th>4</th>\n",
       "      <td>I Got A Feelin</td>\n",
       "      <td>Billy Currington</td>\n",
       "      <td>spotify:track:1tF370eYXUcWwkIvaq3IGz</td>\n",
       "      <td>63.0</td>\n",
       "      <td>76.4</td>\n",
       "      <td>112.098</td>\n",
       "    </tr>\n",
       "    <tr>\n",
       "      <th>...</th>\n",
       "      <td>...</td>\n",
       "      <td>...</td>\n",
       "      <td>...</td>\n",
       "      <td>...</td>\n",
       "      <td>...</td>\n",
       "      <td>...</td>\n",
       "    </tr>\n",
       "    <tr>\n",
       "      <th>41100</th>\n",
       "      <td>(Youre A) Go Nowhere</td>\n",
       "      <td>Reagan Youth</td>\n",
       "      <td>spotify:track:4e86fqSFhqRQk3Z9hm7XHt</td>\n",
       "      <td>39.6</td>\n",
       "      <td>79.5</td>\n",
       "      <td>152.943</td>\n",
       "    </tr>\n",
       "    <tr>\n",
       "      <th>41101</th>\n",
       "      <td>La Fiebre de Norma</td>\n",
       "      <td>La Castañeda</td>\n",
       "      <td>spotify:track:43DFcnOZprnVlAFKwgBJ3e</td>\n",
       "      <td>62.1</td>\n",
       "      <td>65.5</td>\n",
       "      <td>134.167</td>\n",
       "    </tr>\n",
       "    <tr>\n",
       "      <th>41102</th>\n",
       "      <td>Good Times</td>\n",
       "      <td>Edie Brickell</td>\n",
       "      <td>spotify:track:6UPfnVoOq3y3BvapBIKs8J</td>\n",
       "      <td>56.2</td>\n",
       "      <td>31.4</td>\n",
       "      <td>166.847</td>\n",
       "    </tr>\n",
       "    <tr>\n",
       "      <th>41103</th>\n",
       "      <td>Inane</td>\n",
       "      <td>KMFDM</td>\n",
       "      <td>spotify:track:2Ao3Wi4raEOQfKQiU9EU8y</td>\n",
       "      <td>62.2</td>\n",
       "      <td>78.1</td>\n",
       "      <td>120.051</td>\n",
       "    </tr>\n",
       "    <tr>\n",
       "      <th>41104</th>\n",
       "      <td>You Can Make History (Young Again)</td>\n",
       "      <td>Elton John</td>\n",
       "      <td>spotify:track:3ca91BX2k7GSzEUsx1mPgI</td>\n",
       "      <td>66.4</td>\n",
       "      <td>73.9</td>\n",
       "      <td>92.257</td>\n",
       "    </tr>\n",
       "  </tbody>\n",
       "</table>\n",
       "<p>41105 rows × 6 columns</p>\n",
       "</div>"
      ],
      "text/plain": [
       "                                    track             artist  \\\n",
       "0                               Lucky Man  Montgomery Gentry   \n",
       "1                          On The Hotline       Pretty Ricky   \n",
       "2                      Clouds Of Dementia         Candlemass   \n",
       "3                Heavy Metal, Raise Hell!      Zwartketterij   \n",
       "4                          I Got A Feelin   Billy Currington   \n",
       "...                                   ...                ...   \n",
       "41100                (Youre A) Go Nowhere       Reagan Youth   \n",
       "41101                  La Fiebre de Norma       La Castañeda   \n",
       "41102                          Good Times      Edie Brickell   \n",
       "41103                               Inane              KMFDM   \n",
       "41104  You Can Make History (Young Again)         Elton John   \n",
       "\n",
       "                                        uri  danceability  energy    tempo  \n",
       "0      spotify:track:4GiXBCUF7H6YfNQsnBRIzl          57.8    47.1  133.061  \n",
       "1      spotify:track:1zyqZONW985Cs4osz9wlsu          70.4    85.4   92.988  \n",
       "2      spotify:track:6cHZf7RbxXCKwEkgAZT4mY          16.2    83.6   86.964  \n",
       "3      spotify:track:2IjBPp2vMeX7LggzRN3iSX          18.8    99.4  148.440  \n",
       "4      spotify:track:1tF370eYXUcWwkIvaq3IGz          63.0    76.4  112.098  \n",
       "...                                     ...           ...     ...      ...  \n",
       "41100  spotify:track:4e86fqSFhqRQk3Z9hm7XHt          39.6    79.5  152.943  \n",
       "41101  spotify:track:43DFcnOZprnVlAFKwgBJ3e          62.1    65.5  134.167  \n",
       "41102  spotify:track:6UPfnVoOq3y3BvapBIKs8J          56.2    31.4  166.847  \n",
       "41103  spotify:track:2Ao3Wi4raEOQfKQiU9EU8y          62.2    78.1  120.051  \n",
       "41104  spotify:track:3ca91BX2k7GSzEUsx1mPgI          66.4    73.9   92.257  \n",
       "\n",
       "[41105 rows x 6 columns]"
      ]
     },
     "execution_count": 3,
     "metadata": {},
     "output_type": "execute_result"
    }
   ],
   "source": [
    "spotify_data['energy'] = spotify_data['energy'].multiply(100)\n",
    "spotify_data['danceability'] = spotify_data['danceability'].multiply(100)\n",
    "spotify_data"
   ]
  },
  {
   "cell_type": "code",
   "execution_count": 4,
   "id": "3dda0dcf",
   "metadata": {},
   "outputs": [
    {
     "data": {
      "image/png": "[encoded data removed]",
      "text/plain": [
       "<Figure size 432x288 with 1 Axes>"
      ]
     },
     "metadata": {
      "needs_background": "light"
     },
     "output_type": "display_data"
    }
   ],
   "source": [
    "fig = plt.figure()\n",
    "ax = fig.add_subplot(111, projection = \"3d\")\n",
    "x = spotify_data[[\"danceability\"]]\n",
    "y = spotify_data[[\"energy\"]]\n",
    "z = spotify_data[[\"tempo\"]]\n",
    "ax.scatter(x,y,z)\n",
    "ax.view_init(50, 250)\n",
    "plt.show()"
   ]
  },
  {
   "cell_type": "code",
   "execution_count": 5,
   "id": "0e1e42de",
   "metadata": {},
   "outputs": [],
   "source": [
    "#Find Cosine similarity between all the data\n",
    "# data_for_similarity = pd.DataFrame({'danceability':spotify_data['danceability'],'energy':spotify_data['energy'],'tempo':spotify_data['tempo']})\n",
    "# from sklearn.metrics.pairwise import cosine_similarity\n",
    "\n",
    "# similarity = cosine_similarity(data_for_similarity)\n",
    "# print(similarity)"
   ]
  },
  {
   "cell_type": "code",
   "execution_count": 38,
   "id": "9ee29b42",
   "metadata": {
    "scrolled": true
   },
   "outputs": [
    {
     "name": "stdout",
     "output_type": "stream",
     "text": [
      "40559\n",
      "                                    track             artist  \\\n",
      "0                               Lucky Man  Montgomery Gentry   \n",
      "1                          On The Hotline       Pretty Ricky   \n",
      "2                      Clouds Of Dementia         Candlemass   \n",
      "3                Heavy Metal, Raise Hell!      Zwartketterij   \n",
      "4                          I Got A Feelin   Billy Currington   \n",
      "...                                   ...                ...   \n",
      "40554                (Youre A) Go Nowhere       Reagan Youth   \n",
      "40555                  La Fiebre de Norma       La Castañeda   \n",
      "40556                          Good Times      Edie Brickell   \n",
      "40557                               Inane              KMFDM   \n",
      "40558  You Can Make History (Young Again)         Elton John   \n",
      "\n",
      "                                        uri  danceability  energy    tempo  \\\n",
      "0      spotify:track:4GiXBCUF7H6YfNQsnBRIzl          57.8    47.1  133.061   \n",
      "1      spotify:track:1zyqZONW985Cs4osz9wlsu          70.4    85.4   92.988   \n",
      "2      spotify:track:6cHZf7RbxXCKwEkgAZT4mY          16.2    83.6   86.964   \n",
      "3      spotify:track:2IjBPp2vMeX7LggzRN3iSX          18.8    99.4  148.440   \n",
      "4      spotify:track:1tF370eYXUcWwkIvaq3IGz          63.0    76.4  112.098   \n",
      "...                                     ...           ...     ...      ...   \n",
      "40554  spotify:track:4e86fqSFhqRQk3Z9hm7XHt          39.6    79.5  152.943   \n",
      "40555  spotify:track:43DFcnOZprnVlAFKwgBJ3e          62.1    65.5  134.167   \n",
      "40556  spotify:track:6UPfnVoOq3y3BvapBIKs8J          56.2    31.4  166.847   \n",
      "40557  spotify:track:2Ao3Wi4raEOQfKQiU9EU8y          62.2    78.1  120.051   \n",
      "40558  spotify:track:3ca91BX2k7GSzEUsx1mPgI          66.4    73.9   92.257   \n",
      "\n",
      "       song_id  \n",
      "0            0  \n",
      "1            1  \n",
      "2            2  \n",
      "3            3  \n",
      "4            4  \n",
      "...        ...  \n",
      "40554    40554  \n",
      "40555    40555  \n",
      "40556    40556  \n",
      "40557    40557  \n",
      "40558    40558  \n",
      "\n",
      "[40559 rows x 7 columns]\n"
     ]
    }
   ],
   "source": [
    "#Data Preprocessing for model\n",
    "#Add a songId column for independent variables(needed to be float)\n",
    "print(len(spotify_data['uri'].unique()))\n",
    "spotify_data.drop_duplicates(['uri'], keep='last',inplace=True)\n",
    "spotify_data.reset_index(drop=True, inplace=True)\n",
    "spotify_data['song_id']= [i for i,uri in enumerate(spotify_data['uri'])] \n",
    "print(spotify_data)\n",
    "#Extracting Independent and dependent Variable  \n",
    "y= spotify_data.iloc[:,[6]].values  \n",
    "x= spotify_data.iloc[:,[3,4,5]].values  \n",
    "  \n",
    "# # # Splitting the dataset into training and test set.  \n",
    "from sklearn.model_selection import train_test_split  \n",
    "x_train, x_test, y_train, y_test= train_test_split(x, y, test_size= 0.25, random_state=0)  \n",
    "  \n",
    "# # #feature Scaling  \n",
    "from sklearn.preprocessing import StandardScaler    \n",
    "st_x= StandardScaler()    \n",
    "x_train= st_x.fit_transform(x_train)    \n",
    "x_test= st_x.transform(x_test)    "
   ]
  },
  {
   "cell_type": "code",
   "execution_count": 40,
   "id": "21265206",
   "metadata": {},
   "outputs": [
    {
     "name": "stderr",
     "output_type": "stream",
     "text": [
      "/opt/anaconda3/envs/PythonData/lib/python3.6/site-packages/ipykernel_launcher.py:4: DataConversionWarning: A column-vector y was passed when a 1d array was expected. Please change the shape of y to (n_samples,), for example using ravel().\n",
      "  after removing the cwd from sys.path.\n"
     ]
    },
    {
     "data": {
      "text/plain": [
       "RandomForestRegressor(random_state=0)"
      ]
     },
     "execution_count": 40,
     "metadata": {},
     "output_type": "execute_result"
    }
   ],
   "source": [
    "#Fitting Decision Tree classifier to the training set  \n",
    "from sklearn.ensemble import RandomForestRegressor \n",
    "regressor= RandomForestRegressor(n_estimators= 100, random_state=0)  \n",
    "regressor.fit(x_train, y_train)"
   ]
  },
  {
   "cell_type": "code",
   "execution_count": 41,
   "id": "74454f36",
   "metadata": {},
   "outputs": [
    {
     "name": "stdout",
     "output_type": "stream",
     "text": [
      "[27186.99 31027.7  10346.99 ... 26365.89 20639.28 19659.67]\n"
     ]
    }
   ],
   "source": [
    "#Predicting the test set result\n",
    "y_pred = regressor.predict(x_test)  \n",
    "print(y_pred)"
   ]
  },
  {
   "cell_type": "code",
   "execution_count": null,
   "id": "678e5843",
   "metadata": {},
   "outputs": [],
   "source": []
  }
 ],
 "metadata": {
  "kernelspec": {
   "display_name": "Python 3",
   "language": "python",
   "name": "python3"
  },
  "language_info": {
   "codemirror_mode": {
    "name": "ipython",
    "version": 3
   },
   "file_extension": ".py",
   "mimetype": "text/x-python",
   "name": "python",
   "nbconvert_exporter": "python",
   "pygments_lexer": "ipython3",
   "version": "3.6.10"
  }
 },
 "nbformat": 4,
 "nbformat_minor": 5
}
