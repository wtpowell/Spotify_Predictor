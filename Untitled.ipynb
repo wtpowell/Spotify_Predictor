{
 "cells": [
  {
   "cell_type": "code",
   "execution_count": 1,
   "metadata": {},
   "outputs": [],
   "source": [
    "import matplotlib.pyplot as plt\n",
    "import pandas as pd\n",
    "import numpy as numpy\n",
    "from mpl_toolkits.mplot3d import Axes3D"
   ]
  },
  {
   "cell_type": "code",
   "execution_count": 4,
   "metadata": {},
   "outputs": [
    {
     "data": {
      "text/html": [
       "<div>\n",
       "<style scoped>\n",
       "    .dataframe tbody tr th:only-of-type {\n",
       "        vertical-align: middle;\n",
       "    }\n",
       "\n",
       "    .dataframe tbody tr th {\n",
       "        vertical-align: top;\n",
       "    }\n",
       "\n",
       "    .dataframe thead th {\n",
       "        text-align: right;\n",
       "    }\n",
       "</style>\n",
       "<table border=\"1\" class=\"dataframe\">\n",
       "  <thead>\n",
       "    <tr style=\"text-align: right;\">\n",
       "      <th></th>\n",
       "      <th>artist</th>\n",
       "      <th>uri</th>\n",
       "      <th>danceability</th>\n",
       "      <th>energy</th>\n",
       "      <th>tempo</th>\n",
       "    </tr>\n",
       "  </thead>\n",
       "  <tbody>\n",
       "    <tr>\n",
       "      <th>0</th>\n",
       "      <td>Montgomery Gentry</td>\n",
       "      <td>spotify:track:4GiXBCUF7H6YfNQsnBRIzl</td>\n",
       "      <td>0.578</td>\n",
       "      <td>0.471</td>\n",
       "      <td>133.061</td>\n",
       "    </tr>\n",
       "    <tr>\n",
       "      <th>1</th>\n",
       "      <td>Pretty Ricky</td>\n",
       "      <td>spotify:track:1zyqZONW985Cs4osz9wlsu</td>\n",
       "      <td>0.704</td>\n",
       "      <td>0.854</td>\n",
       "      <td>92.988</td>\n",
       "    </tr>\n",
       "    <tr>\n",
       "      <th>2</th>\n",
       "      <td>Candlemass</td>\n",
       "      <td>spotify:track:6cHZf7RbxXCKwEkgAZT4mY</td>\n",
       "      <td>0.162</td>\n",
       "      <td>0.836</td>\n",
       "      <td>86.964</td>\n",
       "    </tr>\n",
       "    <tr>\n",
       "      <th>3</th>\n",
       "      <td>Zwartketterij</td>\n",
       "      <td>spotify:track:2IjBPp2vMeX7LggzRN3iSX</td>\n",
       "      <td>0.188</td>\n",
       "      <td>0.994</td>\n",
       "      <td>148.440</td>\n",
       "    </tr>\n",
       "    <tr>\n",
       "      <th>4</th>\n",
       "      <td>Billy Currington</td>\n",
       "      <td>spotify:track:1tF370eYXUcWwkIvaq3IGz</td>\n",
       "      <td>0.630</td>\n",
       "      <td>0.764</td>\n",
       "      <td>112.098</td>\n",
       "    </tr>\n",
       "    <tr>\n",
       "      <th>...</th>\n",
       "      <td>...</td>\n",
       "      <td>...</td>\n",
       "      <td>...</td>\n",
       "      <td>...</td>\n",
       "      <td>...</td>\n",
       "    </tr>\n",
       "    <tr>\n",
       "      <th>41100</th>\n",
       "      <td>Reagan Youth</td>\n",
       "      <td>spotify:track:4e86fqSFhqRQk3Z9hm7XHt</td>\n",
       "      <td>0.396</td>\n",
       "      <td>0.795</td>\n",
       "      <td>152.943</td>\n",
       "    </tr>\n",
       "    <tr>\n",
       "      <th>41101</th>\n",
       "      <td>La Castañeda</td>\n",
       "      <td>spotify:track:43DFcnOZprnVlAFKwgBJ3e</td>\n",
       "      <td>0.621</td>\n",
       "      <td>0.655</td>\n",
       "      <td>134.167</td>\n",
       "    </tr>\n",
       "    <tr>\n",
       "      <th>41102</th>\n",
       "      <td>Edie Brickell</td>\n",
       "      <td>spotify:track:6UPfnVoOq3y3BvapBIKs8J</td>\n",
       "      <td>0.562</td>\n",
       "      <td>0.314</td>\n",
       "      <td>166.847</td>\n",
       "    </tr>\n",
       "    <tr>\n",
       "      <th>41103</th>\n",
       "      <td>KMFDM</td>\n",
       "      <td>spotify:track:2Ao3Wi4raEOQfKQiU9EU8y</td>\n",
       "      <td>0.622</td>\n",
       "      <td>0.781</td>\n",
       "      <td>120.051</td>\n",
       "    </tr>\n",
       "    <tr>\n",
       "      <th>41104</th>\n",
       "      <td>Elton John</td>\n",
       "      <td>spotify:track:3ca91BX2k7GSzEUsx1mPgI</td>\n",
       "      <td>0.664</td>\n",
       "      <td>0.739</td>\n",
       "      <td>92.257</td>\n",
       "    </tr>\n",
       "  </tbody>\n",
       "</table>\n",
       "<p>41105 rows × 5 columns</p>\n",
       "</div>"
      ],
      "text/plain": [
       "                  artist                                   uri  danceability  \\\n",
       "0      Montgomery Gentry  spotify:track:4GiXBCUF7H6YfNQsnBRIzl         0.578   \n",
       "1           Pretty Ricky  spotify:track:1zyqZONW985Cs4osz9wlsu         0.704   \n",
       "2             Candlemass  spotify:track:6cHZf7RbxXCKwEkgAZT4mY         0.162   \n",
       "3          Zwartketterij  spotify:track:2IjBPp2vMeX7LggzRN3iSX         0.188   \n",
       "4       Billy Currington  spotify:track:1tF370eYXUcWwkIvaq3IGz         0.630   \n",
       "...                  ...                                   ...           ...   \n",
       "41100       Reagan Youth  spotify:track:4e86fqSFhqRQk3Z9hm7XHt         0.396   \n",
       "41101       La Castañeda  spotify:track:43DFcnOZprnVlAFKwgBJ3e         0.621   \n",
       "41102      Edie Brickell  spotify:track:6UPfnVoOq3y3BvapBIKs8J         0.562   \n",
       "41103              KMFDM  spotify:track:2Ao3Wi4raEOQfKQiU9EU8y         0.622   \n",
       "41104         Elton John  spotify:track:3ca91BX2k7GSzEUsx1mPgI         0.664   \n",
       "\n",
       "       energy    tempo  \n",
       "0       0.471  133.061  \n",
       "1       0.854   92.988  \n",
       "2       0.836   86.964  \n",
       "3       0.994  148.440  \n",
       "4       0.764  112.098  \n",
       "...       ...      ...  \n",
       "41100   0.795  152.943  \n",
       "41101   0.655  134.167  \n",
       "41102   0.314  166.847  \n",
       "41103   0.781  120.051  \n",
       "41104   0.739   92.257  \n",
       "\n",
       "[41105 rows x 5 columns]"
      ]
     },
     "execution_count": 4,
     "metadata": {},
     "output_type": "execute_result"
    }
   ],
   "source": [
    "spotify_data = pd.read_csv(\"fixed_cleaned_spotify_data.csv\")\n",
    "spotify_data"
   ]
  },
  {
   "cell_type": "code",
   "execution_count": 5,
   "metadata": {},
   "outputs": [
    {
     "data": {
      "image/png": "[encoded data removed]",
      "text/plain": [
       "<Figure size 432x288 with 1 Axes>"
      ]
     },
     "metadata": {
      "needs_background": "light"
     },
     "output_type": "display_data"
    }
   ],
   "source": [
    "fig = plt.figure()\n",
    "ax = fig.add_subplot(111, projection = \"3d\")\n",
    "x = spotify_data[[\"danceability\"]\n",
    "y = spotify_data[\"energy\"]\n",
    "z = spotify_data[\"tempo\"]\n",
    "ax.scatter(x,y,z)\n",
    "ax.view_init(30, 185)\n",
    "plt.show()"
   ]
  },
  {
   "cell_type": "code",
   "execution_count": 8,
   "metadata": {},
   "outputs": [],
   "source": [
    "from sklearn.model_selection import train_test_split\n",
    "x_train, x_test, y_train, y_test, z_train, z_test = train_test_split(x, y, z, random_state=1)"
   ]
  },
  {
   "cell_type": "code",
   "execution_count": null,
   "metadata": {},
   "outputs": [],
   "source": [
    "from sklearn.preprocessing import StandardScaler\n",
    "\n",
    "x_scaler = StandardScaler().fit(X_train)\n",
    "x_scaler.flatten()\n",
    "x_scaler.transform"
   ]
  }
 ],
 "metadata": {
  "kernelspec": {
   "display_name": "PythonData",
   "language": "python",
   "name": "pythondata"
  },
  "language_info": {
   "codemirror_mode": {
    "name": "ipython",
    "version": 3
   },
   "file_extension": ".py",
   "mimetype": "text/x-python",
   "name": "python",
   "nbconvert_exporter": "python",
   "pygments_lexer": "ipython3",
   "version": "3.9.2"
  }
 },
 "nbformat": 4,
 "nbformat_minor": 4
}
